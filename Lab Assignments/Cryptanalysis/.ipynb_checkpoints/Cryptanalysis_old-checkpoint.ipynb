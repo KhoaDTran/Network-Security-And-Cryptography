{
 "cells": [
  {
   "cell_type": "code",
   "execution_count": 10,
   "metadata": {},
   "outputs": [],
   "source": [
    "import numpy as np\n",
    "import math\n",
    "import networkx as nx \n",
    "import matplotlib.pyplot as plt\n",
    "from texttable import Texttable #Import Texttable function from texttable library to draw tables"
   ]
  },
  {
   "cell_type": "code",
   "execution_count": 11,
   "metadata": {},
   "outputs": [],
   "source": [
    "def histogram(text,print_flag = 0):\n",
    "    #A vector of length 26 (number of letters in English Alphabet)\n",
    "    frequency = np.zeros(26)\n",
    "    \n",
    "    # Encrypting plain text using the key given by shift_key parameter \n",
    "    for ii in range(0,len(text)):\n",
    "        text_char = text[ii]\n",
    "        # Uppercase characters in text (Note: In ASCII table letter \"A\" is assigned 65)\n",
    "        if (text_char.isupper()):\n",
    "            text_char_index = ord(text_char) - 65\n",
    "            frequency[text_char_index] += 1\n",
    "        # Lowercase characters in text (Note: In ASCII table letter \"a\" is assigned 97)\n",
    "        elif (text_char.islower()):\n",
    "            text_char_index = ord(text_char) - 97\n",
    "            frequency[text_char_index] += 1\n",
    "        #Spaces, special characters such as \".\",\"#\",\":\", \" \" (space), etc... will not be encrypted\n",
    "        \n",
    "    hist = frequency/np.sum(frequency)\n",
    "    \n",
    "    if print_flag == 1:\n",
    "        #Plotting the histogram \n",
    "        fig, ax = plt.subplots(figsize=(20, 10))\n",
    "\n",
    "        # now, define the ticks (i.e. locations where the labels will be plotted)\n",
    "        xticks = [ii for ii in range(26)]\n",
    "    \n",
    "        # create the histogram\n",
    "        ax.bar(xticks, hist) # `align='left'` is used to center the labels\n",
    "\n",
    "        # also define the labels we'll use (note this MUST have the same size as `xticks`!)\n",
    "        xtick_labels = [chr(ii+65) for ii in range(26)]\n",
    "\n",
    "        # add the ticks and labels to the plot\n",
    "        ax.set_xticks(xticks)\n",
    "        ax.set_xticklabels(xtick_labels)\n",
    "        ax.set_ylabel('Normalized frequency', fontsize=30)\n",
    "        ax.set_xlabel('Letters', fontsize=30)\n",
    "        ax.tick_params(axis='both', which='major', labelsize=25)\n",
    "        ax.tick_params(axis='both', which='minor', labelsize=25)\n",
    "\n",
    "        plt.show()\n",
    "        \n",
    "        t1 = Texttable() #Creating an empty table\n",
    "        t2 = Texttable() #Creating an empty table\n",
    "    \n",
    "        #Creating first table (Plain text from \"a\"(0) to \"m\"(12))\n",
    "        t1_row_1 = xtick_labels[0:13]\n",
    "        t1_row_1.insert(0,'Letters')\n",
    "        t1.add_row(t1_row_1)\n",
    "        t1_row_2 = hist[0:13].tolist()\n",
    "        t1_row_2.insert(0,'Norm. freq.')\n",
    "        t1.add_row(t1_row_2)\n",
    "    \n",
    "        #Creating second table (Plain text from \"n\"(13) to \"z\"(25))\n",
    "        t2_row_1 = xtick_labels[13:]\n",
    "        t2_row_1.insert(0,'Letters')\n",
    "        t2.add_row(t2_row_1)\n",
    "        t2_row_2 = hist[13:].tolist()\n",
    "        t2_row_2.insert(0,'Norm. freq.')\n",
    "        t2.add_row(t2_row_2)\n",
    "        \n",
    "        t1.set_cols_align([\"c\"]*14)\n",
    "        t2.set_cols_align([\"c\"]*14)\n",
    "        \n",
    "        col_width = 5*np.ones(14)\n",
    "        col_width[0] += 2.5\n",
    "        t1.set_cols_width(col_width)\n",
    "        t2.set_cols_width(col_width)\n",
    "        \n",
    "        #Draw two tables \n",
    "        print(t1.draw())\n",
    "        print(t2.draw())\n",
    "\n",
    "    \n",
    "    return hist  "
   ]
  },
  {
   "cell_type": "code",
   "execution_count": 12,
   "metadata": {},
   "outputs": [
    {
     "name": "stdout",
     "output_type": "stream",
     "text": [
      "text : Cryptanalysis is the study of ciphertext, ciphers and cryptosystems with the aim of understanding how they work and finding and improving techniques for defeating or weakening them. For example, cryptanalysts seek to decrypt ciphertexts without knowledge of the plaintext source, encryption key or the algorithm used to encrypt it; cryptanalysts also target secure hashing, digital signatures and other cryptographic algorithms.\n"
     ]
    },
    {
     "data": {
      "image/png": "[encoded data removed]",
      "text/plain": [
       "<Figure size 1440x720 with 1 Axes>"
      ]
     },
     "metadata": {
      "needs_background": "light"
     },
     "output_type": "display_data"
    },
    {
     "name": "stdout",
     "output_type": "stream",
     "text": [
      "+---------+-------+-------+-------+-------+-------+-------+-------+-------+-------+-------+-------+-------+-------+\n",
      "| Letters |   A   |   B   |   C   |   D   |   E   |   F   |   G   |   H   |   I   |   J   |   K   |   L   |   M   |\n",
      "+---------+-------+-------+-------+-------+-------+-------+-------+-------+-------+-------+-------+-------+-------+\n",
      "|  Norm.  | 0.066 |   0   | 0.041 | 0.036 | 0.102 | 0.019 | 0.036 | 0.052 | 0.072 |   0   | 0.014 | 0.028 | 0.019 |\n",
      "|  freq.  |       |       |       |       |       |       |       |       |       |       |       |       |       |\n",
      "+---------+-------+-------+-------+-------+-------+-------+-------+-------+-------+-------+-------+-------+-------+\n",
      "+---------+-------+-------+-------+-------+-------+-------+-------+-------+-------+-------+-------+-------+-------+\n",
      "| Letters |   N   |   O   |   P   |   Q   |   R   |   S   |   T   |   U   |   V   |   W   |   X   |   Y   |   Z   |\n",
      "+---------+-------+-------+-------+-------+-------+-------+-------+-------+-------+-------+-------+-------+-------+\n",
      "|  Norm.  | 0.066 | 0.061 | 0.041 | 0.003 | 0.072 | 0.066 | 0.110 | 0.022 | 0.003 | 0.017 | 0.011 | 0.041 |   0   |\n",
      "|  freq.  |       |       |       |       |       |       |       |       |       |       |       |       |       |\n",
      "+---------+-------+-------+-------+-------+-------+-------+-------+-------+-------+-------+-------+-------+-------+\n"
     ]
    }
   ],
   "source": [
    "#check the above function\n",
    "text = \"Cryptanalysis is the study of ciphertext, ciphers and cryptosystems with the aim of understanding how they work and finding and improving techniques for defeating or weakening them. For example, cryptanalysts seek to decrypt ciphertexts without knowledge of the plaintext source, encryption key or the algorithm used to encrypt it; cryptanalysts also target secure hashing, digital signatures and other cryptographic algorithms.\"\n",
    "\n",
    "print(\"text : \" + text)\n",
    "histogram(text,1);\n",
    "#print(\"Histogram : \", histogram(text,1))"
   ]
  },
  {
   "cell_type": "code",
   "execution_count": 13,
   "metadata": {},
   "outputs": [
    {
     "data": {
      "image/png": "[encoded data removed]",
      "text/plain": [
       "<Figure size 1440x720 with 1 Axes>"
      ]
     },
     "metadata": {
      "needs_background": "light"
     },
     "output_type": "display_data"
    },
    {
     "name": "stdout",
     "output_type": "stream",
     "text": [
      "+---------+-------+-------+-------+-------+-------+-------+-------+-------+-------+-------+-------+-------+-------+\n",
      "| Letters |   A   |   B   |   C   |   D   |   E   |   F   |   G   |   H   |   I   |   J   |   K   |   L   |   M   |\n",
      "+---------+-------+-------+-------+-------+-------+-------+-------+-------+-------+-------+-------+-------+-------+\n",
      "|  Norm.  | 0.080 | 0.015 | 0.023 | 0.046 | 0.125 | 0.022 | 0.021 | 0.065 | 0.068 | 0.002 | 0.009 | 0.042 | 0.025 |\n",
      "|  freq.  |       |       |       |       |       |       |       |       |       |       |       |       |       |\n",
      "+---------+-------+-------+-------+-------+-------+-------+-------+-------+-------+-------+-------+-------+-------+\n",
      "+---------+-------+-------+-------+-------+-------+-------+-------+-------+-------+-------+-------+-------+-------+\n",
      "| Letters |   N   |   O   |   P   |   Q   |   R   |   S   |   T   |   U   |   V   |   W   |   X   |   Y   |   Z   |\n",
      "+---------+-------+-------+-------+-------+-------+-------+-------+-------+-------+-------+-------+-------+-------+\n",
      "|  Norm.  | 0.068 | 0.076 | 0.016 | 0.001 | 0.057 | 0.062 | 0.090 | 0.029 | 0.009 | 0.024 | 0.001 | 0.020 | 0.001 |\n",
      "|  freq.  |       |       |       |       |       |       |       |       |       |       |       |       |       |\n",
      "+---------+-------+-------+-------+-------+-------+-------+-------+-------+-------+-------+-------+-------+-------+\n"
     ]
    }
   ],
   "source": [
    "input_file = open(\"sampleFICT.txt\") \n",
    "text = input_file.read()\n",
    "hist = histogram(text,1)\n",
    "input_file.close()\n",
    "\n",
    "#print(\"Histogram : \", hist)"
   ]
  },
  {
   "cell_type": "markdown",
   "metadata": {},
   "source": [
    "# Kasiski Test"
   ]
  },
  {
   "cell_type": "code",
   "execution_count": 5,
   "metadata": {},
   "outputs": [],
   "source": [
    "def find_pattern(letter_string, pattern):\n",
    "    pattern_len = len(pattern)\n",
    "    letter_string_len =len(letter_string)\n",
    "    \n",
    "    pattern_start_index = []\n",
    "    start = 0\n",
    "    end = pattern_len\n",
    "    \n",
    "    while end <= letter_string_len:\n",
    "        tmp_str = letter_string[start:end]\n",
    "\n",
    "        if tmp_str == pattern:\n",
    "            pattern_start_index.append(start)\n",
    "            \n",
    "        start += 1\n",
    "        end += 1\n",
    "    \n",
    "    return pattern_start_index"
   ]
  },
  {
   "cell_type": "code",
   "execution_count": 6,
   "metadata": {},
   "outputs": [],
   "source": [
    "def kasiski_test(text_):\n",
    "    P = [0.082, 0.015, 0.028, 0.043, 0.127, 0.022, 0.02, 0.061, 0.07, 0.002, 0.008, 0.04, 0.024, 0.067, 0.075, 0.019, 0.001, 0.06, 0.063, 0.091, 0.028, 0.01, 0.023, 0.001, 0.02, 0.001]\n",
    "\n",
    "    text = ''\n",
    "    for ii in range(0,len(text_)):\n",
    "        text = text + text_[ii].replace('\\n','')\n",
    "        \n",
    "    #print(text)\n",
    "    text_len =len(text)\n",
    "    letter_string = ''\n",
    "    \n",
    "    #Record cipher text letters\n",
    "    for ii in range(0,text_len):\n",
    "        char = text[ii]\n",
    "        # Uppercase characters in plain text (Note: In ASCII table letter \"A\" is assigned 65)\n",
    "        if (char.isupper()):\n",
    "            letter_string = letter_string + char\n",
    "        # Lowercase characters in plain text (Note: In ASCII table letter \"a\" is assigned 97)\n",
    "        elif (char.islower()):\n",
    "            letter_string = letter_string + chr(ord(char) - 97 + 65) #converting lowercase to uppercase letters\n",
    "    \n",
    "    letter_string_len = len(letter_string)\n",
    "    #print(letter_string)\n",
    "    Pattern_info = []\n",
    "    \n",
    "    for ll in range(3,round(letter_string_len/2)): #length of the pattern\n",
    "        for ii in range(0, letter_string_len):\n",
    "            if ii + ll <= letter_string_len:\n",
    "                \n",
    "                pattern = letter_string[ii:ii+ll]\n",
    "                patterns_found = [Pattern_info[mm][0] for mm in range(len(Pattern_info))]\n",
    "                if pattern not in patterns_found:\n",
    "                \n",
    "                    pattern_start_index = find_pattern(letter_string, pattern)\n",
    "                    \n",
    "            \n",
    "                    if len(pattern_start_index) > 1:\n",
    "                        pattern_info_tmp = []\n",
    "                        pattern_info_tmp.append(pattern)\n",
    "                        pattern_info_tmp.append(pattern_start_index)\n",
    "                        Pattern_info.append(pattern_info_tmp)\n",
    "    \n",
    "    \n",
    "    #Choosing the pattern that has the most repititions\n",
    "    num_patterns = len(Pattern_info)\n",
    "    max_val = 0\n",
    "    max_index = 0\n",
    "    for ii in range(0,num_patterns):\n",
    "        if max_val < len(Pattern_info[ii][1]):\n",
    "            max_val = len(Pattern_info[ii][1])\n",
    "            max_index = ii\n",
    "        \n",
    "    int_list = Pattern_info[max_index][1]\n",
    "    \n",
    "    #Getting the gcd between numbers \n",
    "    gcd_val = math.gcd(int_list[0],int_list[1])\n",
    "    for ii in range(2,len(int_list)):\n",
    "        gcd_val = math.gcd(gcd_val,int_list[ii])\n",
    "    \n",
    "    print('Key length is:', gcd_val)\n",
    "    \n",
    "    m = gcd_val\n",
    "    \n",
    "    #Creating sub strings\n",
    "    sub_strings = []\n",
    "    \n",
    "    for ii in range(0,m):\n",
    "        sub_strings.append('')\n",
    "        \n",
    "    jj = 0\n",
    "    for ii in range(0,letter_string_len):\n",
    "        sub_strings[jj] += letter_string[ii]\n",
    "        jj += 1\n",
    "        if jj == m:\n",
    "            jj = 0\n",
    "    \n",
    "    #Creating the histograms \n",
    "    hist_info  = []\n",
    "    Key = []\n",
    "    max_val_orig = max(P)\n",
    "    index_max_orig = P.index(max_val_orig)\n",
    "    for ii in range(0,m):\n",
    "        hist_data = histogram(sub_strings[ii],0) #\"1\" to draw or nor draw histogram \n",
    "        #print(hist_data)\n",
    "        hist_info.append(hist_data)\n",
    "        max_val = max(hist_data)\n",
    "        index_max = hist_data.tolist().index(max_val)\n",
    "        Key_val = index_max - index_max_orig\n",
    "        Key.append(Key_val)\n",
    "        \n",
    "    \n",
    "    \n",
    "    return Pattern_info, Key"
   ]
  },
  {
   "cell_type": "code",
   "execution_count": 7,
   "metadata": {
    "scrolled": false
   },
   "outputs": [
    {
     "name": "stdout",
     "output_type": "stream",
     "text": [
      "Key length is: 5\n",
      "\n",
      "All patterns found:\n",
      "\n",
      "Pattern: CHR\n",
      "Starting index: [0, 165, 235, 275, 285]\n",
      "------------------------------\n",
      "Pattern: XXW\n",
      "Starting index: [18, 53]\n",
      "------------------------------\n",
      "Pattern: XWT\n",
      "Starting index: [19, 74]\n",
      "------------------------------\n",
      "Pattern: LXF\n",
      "Starting index: [84, 193]\n",
      "------------------------------\n",
      "Pattern: EMN\n",
      "Starting index: [93, 218]\n",
      "------------------------------\n",
      "Pattern: MND\n",
      "Starting index: [94, 219]\n",
      "------------------------------\n",
      "Pattern: ELX\n",
      "Starting index: [118, 123]\n",
      "------------------------------\n",
      "Pattern: GLX\n",
      "Starting index: [192, 222]\n",
      "------------------------------\n",
      "Pattern: REM\n",
      "Starting index: [217, 266]\n",
      "------------------------------\n",
      "Pattern: EMND\n",
      "Starting index: [93, 218]\n",
      "------------------------------\n",
      "\n",
      "Key:\n",
      " [18, 0, 13, 0, 19]\n"
     ]
    }
   ],
   "source": [
    "input_file = open(\"Example.txt\",'r') \n",
    "text =  input_file.readlines()\n",
    "Pattern_info, Key = kasiski_test(text)\n",
    "print('\\nAll patterns found:\\n')\n",
    "for ii in range(0,len(Pattern_info)):\n",
    "    print('Pattern:', Pattern_info[ii][0])\n",
    "    print('Starting index:', Pattern_info[ii][1])\n",
    "    print('------------------------------')\n",
    "    \n",
    "print('\\nKey:\\n', Key)"
   ]
  },
  {
   "cell_type": "markdown",
   "metadata": {},
   "source": [
    "# Cryptanalysis using Auto and Cross Correlation"
   ]
  },
  {
   "cell_type": "code",
   "execution_count": 8,
   "metadata": {},
   "outputs": [],
   "source": [
    "def auto_correlation(text_,m):\n",
    "    \n",
    "    text = ''\n",
    "    for ii in range(0,len(text_)):\n",
    "        text = text + text_[ii].replace('\\n','')\n",
    "        \n",
    "    #print(text)\n",
    "    text_len =len(text)\n",
    "    letter_string = ''\n",
    "    \n",
    "    #Record cipher text letters\n",
    "    for ii in range(0,text_len):\n",
    "        char = text[ii]\n",
    "        # Uppercase characters in plain text (Note: In ASCII table letter \"A\" is assigned 65)\n",
    "        if (char.isupper()):\n",
    "            letter_string = letter_string + char\n",
    "        # Lowercase characters in plain text (Note: In ASCII table letter \"a\" is assigned 97)\n",
    "        elif (char.islower()):\n",
    "            letter_string = letter_string + chr(ord(char) - 97 + 65) #converting lowercase to uppercase letters\n",
    "    \n",
    "    letter_string_len = len(letter_string)\n",
    "    \n",
    "    sub_strings = []\n",
    "    \n",
    "    for ii in range(0,m):\n",
    "        sub_strings.append('')\n",
    "        \n",
    "    jj = 0\n",
    "    for ii in range(0,letter_string_len):\n",
    "        sub_strings[jj] += letter_string[ii]\n",
    "        jj += 1\n",
    "        if jj == m:\n",
    "            jj = 0\n",
    "    \n",
    "    hist_info  = []\n",
    "    for ii in range(0,m):\n",
    "        hist_data = histogram(sub_strings[ii],0) #To show hist\n",
    "        #print(hist_data)\n",
    "        hist_info.append(hist_data)\n",
    "        \n",
    "    \n",
    "        \n",
    "    auto_corr_info = []\n",
    "    for ii in range(0,m):\n",
    "        auto_corr_val = 0\n",
    "        for jj in range(0,26):\n",
    "            auto_corr_val += hist_info[ii][jj]*hist_info[ii][jj]\n",
    "            \n",
    "            \n",
    "        auto_corr_info.append(auto_corr_val)     \n",
    "    \n",
    "    return auto_corr_info, hist_info, sub_strings\n",
    "\n",
    "\n",
    "def cross_correlation(hist_info):\n",
    "    P = [0.082, 0.015, 0.028, 0.043, 0.127, 0.022, 0.02, 0.061, 0.07, 0.002, 0.008, 0.04, 0.024, 0.067, 0.075, 0.019, 0.001, 0.06, 0.063, 0.091, 0.028, 0.01, 0.023, 0.001, 0.02, 0.001]\n",
    "    m = len(hist_info)\n",
    "    \n",
    "    cross_corr_info = []\n",
    "    for ii in range(0,m):\n",
    "        sub_string_cross_info = []\n",
    "        for KK in range(0,26):\n",
    "            cross_corr_val = 0\n",
    "            for jj in range(0,26):\n",
    "                cross_corr_val += P[jj]*hist_info[ii][(jj+KK) % 26]\n",
    "        \n",
    "            sub_string_cross_info.append(cross_corr_val)\n",
    "            \n",
    "        cross_corr_info.append(sub_string_cross_info)\n",
    "        \n",
    "    return cross_corr_info    \n",
    "        "
   ]
  },
  {
   "cell_type": "markdown",
   "metadata": {},
   "source": [
    "# Cyclic autocorrelation of the frequency distribution of English"
   ]
  },
  {
   "cell_type": "code",
   "execution_count": 9,
   "metadata": {},
   "outputs": [
    {
     "data": {
      "image/png": "[encoded data removed]",
      "text/plain": [
       "<Figure size 1440x720 with 1 Axes>"
      ]
     },
     "metadata": {
      "needs_background": "light"
     },
     "output_type": "display_data"
    }
   ],
   "source": [
    "P = [0.082, 0.015, 0.028, 0.043, 0.127, 0.022, 0.02, 0.061, 0.07, 0.002, 0.008, 0.04, 0.024, 0.067, 0.075, 0.019, 0.001, 0.06, 0.063, 0.091, 0.028, 0.01, 0.023, 0.001, 0.02, 0.001]\n",
    "R = []\n",
    "\n",
    "for kk in range(-13, 14):\n",
    "    corr_val = 0\n",
    "    for ii in range(0,26):\n",
    "        corr_val += P[(ii + kk) % 26]*P[ii]\n",
    "    R.append(corr_val)\n",
    "\n",
    "    \n",
    "fig, ax = plt.subplots(figsize=(20, 10))\n",
    "xticks = [ii for ii in range(-13,14)]\n",
    "ax.set_xticks(xticks)\n",
    "ax.set_xticklabels(xticks)\n",
    "ax.set_ylabel('Autocorrelation - R(k)', fontsize=30)\n",
    "ax.set_xlabel('Shift - k', fontsize=30)\n",
    "ax.tick_params(axis='both', which='major', labelsize=25)\n",
    "ax.tick_params(axis='both', which='minor', labelsize=25)\n",
    "\n",
    "ax.bar(xticks, R)\n",
    "plt.show()"
   ]
  },
  {
   "cell_type": "markdown",
   "metadata": {},
   "source": [
    "## Check for key length $m$"
   ]
  },
  {
   "cell_type": "code",
   "execution_count": 14,
   "metadata": {},
   "outputs": [
    {
     "name": "stdout",
     "output_type": "stream",
     "text": [
      "Key length: 1\n",
      "Auto correlation R(0) values corresponding to 1 sub strings:\n",
      "[0.04806622503036674] \n",
      "\n",
      "Key length: 2\n",
      "Auto correlation R(0) values corresponding to 2 sub strings:\n",
      "[0.051645097164185166, 0.04717291255752794] \n",
      "\n",
      "Key length: 3\n",
      "Auto correlation R(0) values corresponding to 3 sub strings:\n",
      "[0.05233560090702948, 0.058801775147929, 0.05621301775147929] \n",
      "\n",
      "Key length: 4\n",
      "Auto correlation R(0) values corresponding to 4 sub strings:\n",
      "[0.05431821823425734, 0.05128205128205129, 0.057527942143326766, 0.05259697567389876] \n",
      "\n",
      "Key length: 5\n",
      "Auto correlation R(0) values corresponding to 5 sub strings:\n",
      "[0.07785336356764927, 0.08289241622574955, 0.08339632149155958, 0.07596253902185225, 0.0874089490114464] \n",
      "\n",
      "Key length: 6\n",
      "Auto correlation R(0) values corresponding to 6 sub strings:\n",
      "[0.06229975080099681, 0.062130177514792925, 0.06582840236686394, 0.059911242603550324, 0.06730769230769232, 0.055473372781065095] \n",
      "\n",
      "Key length: 7\n",
      "Auto correlation R(0) values corresponding to 7 sub strings:\n",
      "[0.06765432098765435, 0.06666666666666668, 0.05580246913580248, 0.07456790123456791, 0.06567901234567902, 0.057851239669421475, 0.05888429752066115] \n",
      "\n",
      "Key length: 8\n",
      "Auto correlation R(0) values corresponding to 8 sub strings:\n",
      "[0.07000000000000002, 0.05982905982905983, 0.07429322813938197, 0.06508875739644972, 0.06771860618014465, 0.06508875739644969, 0.062458908612754764, 0.06771860618014464] \n",
      "\n",
      "Key length: 9\n",
      "Auto correlation R(0) values corresponding to 9 sub strings:\n",
      "[0.06938775510204082, 0.0595918367346939, 0.08244897959183674, 0.06938775510204083, 0.08897959183673469, 0.07591836734693877, 0.0710204081632653, 0.06920415224913494, 0.07093425605536333] \n",
      "\n",
      "Key length: 10\n",
      "Auto correlation R(0) values corresponding to 10 sub strings:\n",
      "[0.103515625, 0.091796875, 0.08203125, 0.10093652445369405, 0.10093652445369407, 0.08220603537981266, 0.09885535900104056, 0.1259105098855359, 0.0842872008324662, 0.09053069719042663] \n",
      "\n",
      "Key length: 11\n",
      "Auto correlation R(0) values corresponding to 11 sub strings:\n",
      "[0.07253269916765753, 0.07491082045184302, 0.08917954815695599, 0.09155766944114149, 0.0820451843043995, 0.07397959183673469, 0.0739795918367347, 0.06377551020408163, 0.08673469387755102, 0.06377551020408163, 0.0739795918367347] \n",
      "\n",
      "Key length: 12\n",
      "Auto correlation R(0) values corresponding to 12 sub strings:\n",
      "[0.056241426611796964, 0.08579881656804733, 0.08875739644970415, 0.09763313609467453, 0.07396449704142014, 0.07100591715976332, 0.09467455621301776, 0.07396449704142012, 0.07692307692307693, 0.06804733727810651, 0.09467455621301775, 0.06508875739644972] \n",
      "\n",
      "Key length: 13\n",
      "Auto correlation R(0) values corresponding to 13 sub strings:\n",
      "[0.07200000000000001, 0.10069444444444445, 0.09027777777777775, 0.08333333333333334, 0.09722222222222221, 0.08680555555555555, 0.05902777777777778, 0.06944444444444442, 0.0972222222222222, 0.06944444444444445, 0.07986111111111112, 0.07291666666666666, 0.09027777777777773] \n",
      "\n",
      "Key length: 14\n",
      "Auto correlation R(0) values corresponding to 14 sub strings:\n",
      "[0.06994328922495274, 0.07750472589792062, 0.08506616257088848, 0.08884688090737242, 0.08506616257088848, 0.07851239669421486, 0.07851239669421488, 0.09504132231404958, 0.07851239669421486, 0.08264462809917353, 0.09090909090909091, 0.08264462809917356, 0.07851239669421486, 0.06611570247933884] \n",
      "\n"
     ]
    }
   ],
   "source": [
    "input_file = open(\"Example.txt\",'r') \n",
    "text =  input_file.readlines()\n",
    "max_m = 15\n",
    "for m in range(1,max_m):\n",
    "    auto_corr_info, hist_info, sub_strings = auto_correlation(text,m)\n",
    "    print('Key length:', m)\n",
    "    #print('Average auto correlation value among '+str(m)+' sub strings: '+str(np.mean(auto_corr_info)))\n",
    "    print('Auto correlation R(0) values corresponding to '+str(m)+' sub strings:')\n",
    "    print(auto_corr_info,'\\n')"
   ]
  },
  {
   "cell_type": "markdown",
   "metadata": {},
   "source": [
    "## Finding each key value in $K = (k_1, k_2, \\ldots, k_m)$"
   ]
  },
  {
   "cell_type": "code",
   "execution_count": null,
   "metadata": {
    "scrolled": false
   },
   "outputs": [],
   "source": [
    "#Enter Key length here \n",
    "m = 5\n",
    "\n",
    "auto_corr_info, hist_info, sub_strings = auto_correlation(text,m)\n",
    "cross_corr_info = cross_correlation(hist_info)\n",
    "Key = []\n",
    "for ii in range(0,m):\n",
    "    print('Sub string', ii)\n",
    "    fig, ax = plt.subplots(figsize=(20, 10))\n",
    "    xticks = [ii for ii in range(26)]\n",
    "    # create the histogram\n",
    "    ax.bar(xticks, cross_corr_info[ii])\n",
    "    ax.set_xticks(xticks)\n",
    "    #ax.set_xticklabels(xtick_labels)\n",
    "    ax.set_ylabel('C(k)', fontsize=30)\n",
    "    ax.set_xlabel('k', fontsize=30)\n",
    "    ax.tick_params(axis='both', which='major', labelsize=25)\n",
    "    ax.tick_params(axis='both', which='minor', labelsize=25)\n",
    "\n",
    "    plt.show()\n",
    "    #print('\\n',cross_corr_info[ii])\n",
    "    max_val = max(cross_corr_info[ii])\n",
    "    max_index = cross_corr_info[ii].index(max_val)\n",
    "    print('Key',ii,': ', max_index,'\\n')\n",
    "    Key.append(max_index)\n"
   ]
  },
  {
   "cell_type": "code",
   "execution_count": null,
   "metadata": {
    "scrolled": false
   },
   "outputs": [],
   "source": [
    "print('Key:')\n",
    "print(Key)"
   ]
  },
  {
   "cell_type": "code",
   "execution_count": null,
   "metadata": {},
   "outputs": [],
   "source": []
  }
 ],
 "metadata": {
  "kernelspec": {
   "display_name": "Python 3",
   "language": "python",
   "name": "python3"
  },
  "language_info": {
   "codemirror_mode": {
    "name": "ipython",
    "version": 3
   },
   "file_extension": ".py",
   "mimetype": "text/x-python",
   "name": "python",
   "nbconvert_exporter": "python",
   "pygments_lexer": "ipython3",
   "version": "3.8.3"
  }
 },
 "nbformat": 4,
 "nbformat_minor": 4
}
