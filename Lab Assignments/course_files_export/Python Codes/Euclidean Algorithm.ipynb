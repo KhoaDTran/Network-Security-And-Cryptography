{
 "cells": [
  {
   "cell_type": "markdown",
   "metadata": {},
   "source": [
    "# Euclidean Algorithm \n",
    "\n",
    "## Euclidean algorithm calculates the gcd between two positive integers $a$ and $b$ with the assumption $a > b$."
   ]
  },
  {
   "cell_type": "markdown",
   "metadata": {},
   "source": [
    "## Python implementation of Euclidean Algorithm "
   ]
  },
  {
   "cell_type": "code",
   "execution_count": 1,
   "metadata": {},
   "outputs": [],
   "source": [
    "import numpy as np #To calculate modulo and define arrays "
   ]
  },
  {
   "cell_type": "code",
   "execution_count": 2,
   "metadata": {},
   "outputs": [],
   "source": [
    "#if print_flag=1 then output (gcd) and the steps of Euclidean Algorithm are printed \n",
    "def Euclidean_Algorithm(a,b, print_flag = 0):\n",
    "    if (float(a)).is_integer() and (float(b)).is_integer() and a > 0 and b > 0:\n",
    "        #Making sure a > b (required for Euclidean Algorithm)\n",
    "        if a < b:\n",
    "            tmp = a\n",
    "            a = b\n",
    "            b = tmp\n",
    "            \n",
    "        #Euclidean Algorithm\n",
    "        r = []\n",
    "        r.append(a)\n",
    "        r.append(b)\n",
    "        k = 1\n",
    "        \n",
    "        while r[k] != 0:\n",
    "            q = np.floor((r[k-1]/r[k]))\n",
    "            r.append(r[k-1] - q*r[k])\n",
    "            k += 1\n",
    "            \n",
    "        d = r[k-1]\n",
    "        if print_flag == 1:\n",
    "            print('gcd('+str(a)+', '+str(b)+') = '+str(int(d)))\n",
    "            print('\\nSteps of the Euclidean Algorithm:')\n",
    "            for ii in range(0,len(r)-2):\n",
    "                print( str(int(r[ii])) + ' = ' + str(int((r[ii]-r[ii+2])/r[ii+1])) +'('+ str(int(r[ii+1]))+ ')' + ' + ' + str(int(r[ii+2])))\n",
    "        return int(d)\n",
    "        \n",
    "    else:\n",
    "        print('ERROR: a, and b both must be positive integers')\n",
    "        \n",
    "    "
   ]
  },
  {
   "cell_type": "markdown",
   "metadata": {},
   "source": [
    "### Test  function \"Euclidean_Algorithm\" "
   ]
  },
  {
   "cell_type": "code",
   "execution_count": 3,
   "metadata": {},
   "outputs": [
    {
     "name": "stdout",
     "output_type": "stream",
     "text": [
      "gcd(521, 233) = 1\n",
      "\n",
      "Steps of the Euclidean Algorithm:\n",
      "521 = 2(233) + 55\n",
      "233 = 4(55) + 13\n",
      "55 = 4(13) + 3\n",
      "13 = 4(3) + 1\n",
      "3 = 3(1) + 0\n"
     ]
    }
   ],
   "source": [
    "a = 521\n",
    "b = 233\n",
    "Euclidean_Algorithm(a, b, 1);"
   ]
  },
  {
   "cell_type": "code",
   "execution_count": null,
   "metadata": {},
   "outputs": [],
   "source": [
    "13 - 4(3)  = 1\n",
    "13 - 4(55 - 4(13)) = 1\n",
    "17(13) - 4(55) = 1\n",
    "z233 + w55 = 1\n",
    "x233 + y521 = 1"
   ]
  }
 ],
 "metadata": {
  "kernelspec": {
   "display_name": "Python 3",
   "language": "python",
   "name": "python3"
  },
  "language_info": {
   "codemirror_mode": {
    "name": "ipython",
    "version": 3
   },
   "file_extension": ".py",
   "mimetype": "text/x-python",
   "name": "python",
   "nbconvert_exporter": "python",
   "pygments_lexer": "ipython3",
   "version": "3.8.3"
  }
 },
 "nbformat": 4,
 "nbformat_minor": 4
}
