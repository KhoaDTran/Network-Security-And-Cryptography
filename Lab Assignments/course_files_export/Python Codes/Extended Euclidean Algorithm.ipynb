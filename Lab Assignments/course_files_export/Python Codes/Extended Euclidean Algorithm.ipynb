{
 "cells": [
  {
   "cell_type": "markdown",
   "metadata": {},
   "source": [
    "# Extended Euclidean Algorithm and Modulo Inverse"
   ]
  },
  {
   "cell_type": "markdown",
   "metadata": {},
   "source": [
    "##  1. Extended Euclidean Algorithm\n",
    "\n",
    "### Extended euclidean algorithm takes two positive integers $a$ and $b$ with the assumption $a > b$ and outputs integers $r$, $s$, and $t$ such that $r = \\text{gcd}(a, b)$ and $sa + tb = r$."
   ]
  },
  {
   "cell_type": "code",
   "execution_count": 1,
   "metadata": {},
   "outputs": [],
   "source": [
    "import numpy as np #To calculate modulo and define arrays \n",
    "import math"
   ]
  },
  {
   "cell_type": "code",
   "execution_count": 4,
   "metadata": {},
   "outputs": [],
   "source": [
    "#if print_flag=1 then r, s, and t are printed\n",
    "def Extended_Euclidean_Algorithm(a,b, print_flag = 0):\n",
    "    if (float(a)).is_integer() and (float(b)).is_integer() and a > 0 and b > 0:\n",
    "        #Making sure a > b (required for Extended Euclidean Algorithm)\n",
    "        if a < b:\n",
    "            tmp = a\n",
    "            a = b\n",
    "            b = tmp\n",
    "            \n",
    "        #Extended Euclidean Algorithm\n",
    "        a0 = a\n",
    "        b0 = b\n",
    "        t0 = 0\n",
    "        t = 1\n",
    "        s0 = 1\n",
    "        s = 0\n",
    "        q = np.floor(a0/b0)\n",
    "        r = a0 - q*b0\n",
    "        \n",
    "        while r > 0:\n",
    "            temp = t0 - q*t\n",
    "            t0 = t\n",
    "            t = temp\n",
    "            temp = s0 - q*s\n",
    "            s0 = s\n",
    "            s = temp\n",
    "            a0 = b0\n",
    "            b0 = r\n",
    "            q = np.floor(a0/b0)\n",
    "            r = a0 - q*b0\n",
    "                     \n",
    "        r = b0\n",
    "        \n",
    "        output = []\n",
    "        output.append(int(r))\n",
    "        output.append(int(s))\n",
    "        output.append(int(t))\n",
    "        \n",
    "        if print_flag == 1:\n",
    "            print('gcd(a, b) = r')\n",
    "            print('gcd('+str(a)+', '+str(b)+') = '+str(int(r)))\n",
    "            print('\\nsa + tb = r')\n",
    "            print(str(int(s))+'('+str(a)+')'+' + '+str(int(t))+'('+str(b)+')'+' = '+str(int(r)))\n",
    "        \n",
    "        return output\n",
    "        \n",
    "    else:\n",
    "        print('ERROR: a, and b both must be positive integers')\n",
    "        \n",
    "    "
   ]
  },
  {
   "cell_type": "markdown",
   "metadata": {},
   "source": [
    "### Test  function \"Extended_Euclidean_Algorithm\" "
   ]
  },
  {
   "cell_type": "code",
   "execution_count": 5,
   "metadata": {},
   "outputs": [
    {
     "name": "stdout",
     "output_type": "stream",
     "text": [
      "gcd(a, b) = r\n",
      "gcd(4096, 505) = 1\n",
      "\n",
      "sa + tb = r\n",
      "-9(4096) + 73(505) = 1\n"
     ]
    }
   ],
   "source": [
    "a = 505\n",
    "b = 4096\n",
    "Extended_Euclidean_Algorithm(a, b, 1);"
   ]
  },
  {
   "cell_type": "markdown",
   "metadata": {},
   "source": [
    "##  2. Modulo Inverse\n",
    "\n",
    "### I.  Calculating $n^{-1} \\text{ mod } m$ using extended euclidean algorithm. $n$ and $m$ are integers. Additionally, $m > 0$."
   ]
  },
  {
   "cell_type": "code",
   "execution_count": 7,
   "metadata": {},
   "outputs": [],
   "source": [
    "#if print_flag=1 then output is printed \n",
    "def modulo_inverse_ExtEuclidean(n,m, print_flag = 0):\n",
    "    if n == 1:\n",
    "        if print_flag == 1:\n",
    "            print('Inverse of 1 in mod '+ str(m) +' is 1')\n",
    "        return 1\n",
    "    else:\n",
    "        if (float(n)).is_integer() and (float(m)).is_integer() and m > 0:\n",
    "            if math.gcd(n,m) == 1:\n",
    "                n_mod_m = n % m\n",
    "                \n",
    "                if print_flag == 1:\n",
    "                    print('Extended Euclidean Algorithm results:\\n')\n",
    "                    rst = Extended_Euclidean_Algorithm(n_mod_m, m, 1)\n",
    "                    print('\\n\\nInverse of ' + str(n) + ' in mod '+ str(m) +' is ' + str(rst[2]))\n",
    "                else:\n",
    "                    rst = Extended_Euclidean_Algorithm(n_mod_m, m, 0)\n",
    "                    \n",
    "                return rst[2] # s*n_mod_m + t*m = 1, hence s mod m gives the inverse of n mod m  \n",
    "            else:\n",
    "                print('ERROR: gcd(n,m) is not 1. Inverse does not exist for n mod m')\n",
    "        else:\n",
    "            print('ERROR: n and m both must be integers. m should be positive')"
   ]
  },
  {
   "cell_type": "markdown",
   "metadata": {},
   "source": [
    "### Test \"modulo_inverse_ExtEuclidean\" function "
   ]
  },
  {
   "cell_type": "code",
   "execution_count": 11,
   "metadata": {},
   "outputs": [
    {
     "name": "stdout",
     "output_type": "stream",
     "text": [
      "Extended Euclidean Algorithm results:\n",
      "\n",
      "gcd(a, b) = r\n",
      "gcd(26, 19) = 1\n",
      "\n",
      "sa + tb = r\n",
      "-8(26) + 11(19) = 1\n",
      "\n",
      "\n",
      "Inverse of 175 in mod 26 is 11\n"
     ]
    }
   ],
   "source": [
    "n = 175\n",
    "m = 26\n",
    "inv_val = modulo_inverse_ExtEuclidean(n,m,1);"
   ]
  },
  {
   "cell_type": "markdown",
   "metadata": {},
   "source": [
    "### II. Python function for calculating $n^{-1} \\text{ mod } m$ (naive approach). $n$ and $m$ are integers. Additionally, $m > 0$."
   ]
  },
  {
   "cell_type": "code",
   "execution_count": null,
   "metadata": {},
   "outputs": [],
   "source": [
    "#if print_flag=1 then output is printed \n",
    "def modulo_inverse_naive(n,m, print_flag = 0):\n",
    "    if n == 1:\n",
    "        if print_flag == 1:\n",
    "            print('Inverse of 1 in mod '+ str(m) +' is 1')\n",
    "        return 1\n",
    "    else:\n",
    "        if (float(n)).is_integer() and (float(m)).is_integer() and m > 0:\n",
    "            if math.gcd(n,m) == 1:\n",
    "                n_mod_m = n%m\n",
    "                for x in range(1, m): \n",
    "                    if (n_mod_m * x)%m  == 1:\n",
    "                        if print_flag == 1:\n",
    "                            print('Inverse of ' + str(n) + ' in mod '+ str(m) +' is ' + str(x))\n",
    "                        return x \n",
    "            \n",
    "            else:\n",
    "                print('ERROR: gcd(n,m) is not 1. Inverse does not exist for n mod m')\n",
    "        else:\n",
    "            print('ERROR: n and m both must be integers. m should be positive')"
   ]
  },
  {
   "cell_type": "markdown",
   "metadata": {},
   "source": [
    "### Test \"modulo_inverse_naive\" function "
   ]
  },
  {
   "cell_type": "code",
   "execution_count": 1,
   "metadata": {},
   "outputs": [
    {
     "ename": "NameError",
     "evalue": "name 'modulo_inverse_naive' is not defined",
     "output_type": "error",
     "traceback": [
      "\u001b[1;31m---------------------------------------------------------------------------\u001b[0m",
      "\u001b[1;31mNameError\u001b[0m                                 Traceback (most recent call last)",
      "\u001b[1;32m<ipython-input-1-094314cff4e4>\u001b[0m in \u001b[0;36m<module>\u001b[1;34m\u001b[0m\n\u001b[0;32m      1\u001b[0m \u001b[0mn\u001b[0m \u001b[1;33m=\u001b[0m \u001b[1;36m4913\u001b[0m\u001b[1;33m\u001b[0m\u001b[1;33m\u001b[0m\u001b[0m\n\u001b[0;32m      2\u001b[0m \u001b[0mm\u001b[0m \u001b[1;33m=\u001b[0m \u001b[1;36m31313\u001b[0m\u001b[1;33m\u001b[0m\u001b[1;33m\u001b[0m\u001b[0m\n\u001b[1;32m----> 3\u001b[1;33m \u001b[0mmodulo_inverse_naive\u001b[0m\u001b[1;33m(\u001b[0m\u001b[0mn\u001b[0m\u001b[1;33m,\u001b[0m\u001b[0mm\u001b[0m\u001b[1;33m,\u001b[0m\u001b[1;36m1\u001b[0m\u001b[1;33m)\u001b[0m\u001b[1;33m;\u001b[0m\u001b[1;33m\u001b[0m\u001b[1;33m\u001b[0m\u001b[0m\n\u001b[0m\u001b[0;32m      4\u001b[0m \u001b[0mprint\u001b[0m\u001b[1;33m(\u001b[0m\u001b[1;34m'\\n'\u001b[0m\u001b[1;33m)\u001b[0m\u001b[1;33m\u001b[0m\u001b[1;33m\u001b[0m\u001b[0m\n\u001b[0;32m      5\u001b[0m \u001b[0mmodulo_inverse_naive\u001b[0m\u001b[1;33m(\u001b[0m\u001b[0mnp\u001b[0m\u001b[1;33m.\u001b[0m\u001b[0mmod\u001b[0m\u001b[1;33m(\u001b[0m\u001b[0mn\u001b[0m\u001b[1;33m,\u001b[0m\u001b[0mm\u001b[0m\u001b[1;33m)\u001b[0m\u001b[1;33m,\u001b[0m\u001b[0mm\u001b[0m\u001b[1;33m,\u001b[0m\u001b[1;36m1\u001b[0m\u001b[1;33m)\u001b[0m\u001b[1;33m;\u001b[0m\u001b[1;33m\u001b[0m\u001b[1;33m\u001b[0m\u001b[0m\n",
      "\u001b[1;31mNameError\u001b[0m: name 'modulo_inverse_naive' is not defined"
     ]
    }
   ],
   "source": [
    "n = 4913\n",
    "m = 31313\n",
    "modulo_inverse_naive(n,m,1);\n",
    "print('\\n')\n",
    "modulo_inverse_naive(np.mod(n,m),m,1);"
   ]
  },
  {
   "cell_type": "code",
   "execution_count": null,
   "metadata": {},
   "outputs": [],
   "source": []
  }
 ],
 "metadata": {
  "interpreter": {
   "hash": "9eb899fbcc6abd88815ca718a61d601b12c683b8b00e59874b70e86b2ad57004"
  },
  "kernelspec": {
   "display_name": "Python 3.7.7 64-bit ('base': conda)",
   "name": "python3"
  },
  "language_info": {
   "codemirror_mode": {
    "name": "ipython",
    "version": 3
   },
   "file_extension": ".py",
   "mimetype": "text/x-python",
   "name": "python",
   "nbconvert_exporter": "python",
   "pygments_lexer": "ipython3",
   "version": "3.7.7"
  }
 },
 "nbformat": 4,
 "nbformat_minor": 4
}
